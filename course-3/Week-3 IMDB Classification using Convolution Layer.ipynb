{
  "nbformat": 4,
  "nbformat_minor": 0,
  "metadata": {
    "accelerator": "GPU",
    "colab": {
      "name": "Course 3 - Week 3 - Lesson 2c.ipynb",
      "provenance": [],
      "collapsed_sections": [],
      "toc_visible": true
    },
    "kernelspec": {
      "display_name": "Python 3",
      "language": "python",
      "name": "python3"
    },
    "language_info": {
      "codemirror_mode": {
        "name": "ipython",
        "version": 3
      },
      "file_extension": ".py",
      "mimetype": "text/x-python",
      "name": "python",
      "nbconvert_exporter": "python",
      "pygments_lexer": "ipython3",
      "version": "3.7.6"
    }
  },
  "cells": [
    {
      "cell_type": "code",
      "metadata": {
        "colab_type": "code",
        "id": "jGwXGIXvFhXW",
        "colab": {}
      },
      "source": [
        "# Import Dependencies\n",
        "import numpy as np\n",
        "import json\n",
        "import tensorflow as tf\n",
        "from tensorflow.keras.preprocessing.text import Tokenizer\n",
        "from tensorflow.keras.preprocessing.sequence import pad_sequences"
      ],
      "execution_count": 1,
      "outputs": []
    },
    {
      "cell_type": "code",
      "metadata": {
        "id": "lVs1Fax_RaQ_",
        "colab_type": "code",
        "colab": {
          "base_uri": "https://localhost:8080/",
          "height": 204
        },
        "outputId": "06633892-2da9-43b4-9015-f1bdf4c941dd"
      },
      "source": [
        "# Download Dataset\n",
        "!wget --no-check-certificate \\\n",
        "    https://storage.googleapis.com/laurencemoroney-blog.appspot.com/sarcasm.json \\\n",
        "    -O /tmp/sarcasm.json"
      ],
      "execution_count": 2,
      "outputs": [
        {
          "output_type": "stream",
          "text": [
            "--2020-08-16 21:57:56--  https://storage.googleapis.com/laurencemoroney-blog.appspot.com/sarcasm.json\n",
            "Resolving storage.googleapis.com (storage.googleapis.com)... 108.177.119.128, 108.177.126.128, 108.177.127.128, ...\n",
            "Connecting to storage.googleapis.com (storage.googleapis.com)|108.177.119.128|:443... connected.\n",
            "HTTP request sent, awaiting response... 200 OK\n",
            "Length: 5643545 (5.4M) [application/json]\n",
            "Saving to: ‘/tmp/sarcasm.json’\n",
            "\n",
            "\r/tmp/sarcasm.json     0%[                    ]       0  --.-KB/s               \r/tmp/sarcasm.json   100%[===================>]   5.38M  --.-KB/s    in 0.06s   \n",
            "\n",
            "2020-08-16 21:57:56 (96.1 MB/s) - ‘/tmp/sarcasm.json’ saved [5643545/5643545]\n",
            "\n"
          ],
          "name": "stdout"
        }
      ]
    },
    {
      "cell_type": "code",
      "metadata": {
        "id": "IydqwzgVReI9",
        "colab_type": "code",
        "colab": {}
      },
      "source": [
        "# Define Hyperparameters\n",
        "vocab_size = 1000\n",
        "embedding_dim = 16\n",
        "max_length = 120\n",
        "trunc_type='post'\n",
        "padding_type='post'\n",
        "oov_tok = \"<OOV>\"\n",
        "training_size = 20000"
      ],
      "execution_count": 3,
      "outputs": []
    },
    {
      "cell_type": "code",
      "metadata": {
        "id": "oBA8M861Rha8",
        "colab_type": "code",
        "colab": {}
      },
      "source": [
        "# Read the JSON file\n",
        "with open(\"/tmp/sarcasm.json\", 'r') as f:\n",
        "    datastore = json.load(f)\n",
        "\n",
        "\n",
        "sentences = []\n",
        "labels = []\n",
        "urls = []\n",
        "for item in datastore:\n",
        "    sentences.append(item['headline'])\n",
        "    labels.append(item['is_sarcastic'])\n",
        "\n",
        "# Load Training and Test Dataset\n",
        "training_sentences = sentences[0:training_size]\n",
        "testing_sentences = sentences[training_size:]\n",
        "training_labels = labels[0:training_size]\n",
        "testing_labels = labels[training_size:]\n",
        "\n",
        "tokenizer = Tokenizer(num_words=vocab_size, oov_token=oov_tok)\n",
        "tokenizer.fit_on_texts(training_sentences)\n",
        "\n",
        "word_index = tokenizer.word_index\n",
        "\n",
        "training_sequences = tokenizer.texts_to_sequences(training_sentences)\n",
        "training_padded = pad_sequences(training_sequences, maxlen=max_length, padding=padding_type, truncating=trunc_type)\n",
        "\n",
        "testing_sequences = tokenizer.texts_to_sequences(testing_sentences)\n",
        "testing_padded = pad_sequences(testing_sequences, maxlen=max_length, padding=padding_type, truncating=trunc_type)"
      ],
      "execution_count": 4,
      "outputs": []
    },
    {
      "cell_type": "code",
      "metadata": {
        "id": "js4qH97JRlEE",
        "colab_type": "code",
        "colab": {
          "base_uri": "https://localhost:8080/",
          "height": 323
        },
        "outputId": "8a02436c-08c7-41b2-95a8-78c14d0c5b2c"
      },
      "source": [
        "# Model Definition\n",
        "model = tf.keras.Sequential([\n",
        "    tf.keras.layers.Embedding(vocab_size, embedding_dim, input_length=max_length),\n",
        "    tf.keras.layers.Conv1D(128, 5, activation='relu'),\n",
        "    tf.keras.layers.GlobalMaxPooling1D(),\n",
        "    tf.keras.layers.Dense(24, activation='relu'),\n",
        "    tf.keras.layers.Dense(1, activation='sigmoid')\n",
        "])\n",
        "\n",
        "# Model Summary\n",
        "model.summary()"
      ],
      "execution_count": 5,
      "outputs": [
        {
          "output_type": "stream",
          "text": [
            "Model: \"sequential\"\n",
            "_________________________________________________________________\n",
            "Layer (type)                 Output Shape              Param #   \n",
            "=================================================================\n",
            "embedding (Embedding)        (None, 120, 16)           16000     \n",
            "_________________________________________________________________\n",
            "conv1d (Conv1D)              (None, 116, 128)          10368     \n",
            "_________________________________________________________________\n",
            "global_max_pooling1d (Global (None, 128)               0         \n",
            "_________________________________________________________________\n",
            "dense (Dense)                (None, 24)                3096      \n",
            "_________________________________________________________________\n",
            "dense_1 (Dense)              (None, 1)                 25        \n",
            "=================================================================\n",
            "Total params: 29,489\n",
            "Trainable params: 29,489\n",
            "Non-trainable params: 0\n",
            "_________________________________________________________________\n"
          ],
          "name": "stdout"
        }
      ]
    },
    {
      "cell_type": "code",
      "metadata": {
        "id": "lKJgRQ0gRs_M",
        "colab_type": "code",
        "colab": {}
      },
      "source": [
        "# Compile the Model\n",
        "model.compile(loss='binary_crossentropy',optimizer='adam',metrics=['accuracy'])"
      ],
      "execution_count": 6,
      "outputs": []
    },
    {
      "cell_type": "code",
      "metadata": {
        "id": "3Lo8fWgHRwDr",
        "colab_type": "code",
        "colab": {
          "base_uri": "https://localhost:8080/",
          "height": 1000
        },
        "outputId": "ca5f1085-b719-4ea5-8953-52de7708d167"
      },
      "source": [
        "num_epochs = 50\n",
        "\n",
        "training_padded = np.array(training_padded)\n",
        "training_labels = np.array(training_labels)\n",
        "testing_padded = np.array(testing_padded)\n",
        "testing_labels = np.array(testing_labels)\n",
        "\n",
        "# Train the Model\n",
        "history = model.fit(training_padded, training_labels, epochs=num_epochs, validation_data=(testing_padded, testing_labels), verbose=1)"
      ],
      "execution_count": 7,
      "outputs": [
        {
          "output_type": "stream",
          "text": [
            "Epoch 1/50\n",
            "625/625 [==============================] - 2s 4ms/step - loss: 0.4669 - accuracy: 0.7634 - val_loss: 0.4161 - val_accuracy: 0.8141\n",
            "Epoch 2/50\n",
            "625/625 [==============================] - 2s 3ms/step - loss: 0.3552 - accuracy: 0.8411 - val_loss: 0.3989 - val_accuracy: 0.8132\n",
            "Epoch 3/50\n",
            "625/625 [==============================] - 2s 3ms/step - loss: 0.3146 - accuracy: 0.8633 - val_loss: 0.3983 - val_accuracy: 0.8259\n",
            "Epoch 4/50\n",
            "625/625 [==============================] - 2s 3ms/step - loss: 0.2797 - accuracy: 0.8808 - val_loss: 0.4043 - val_accuracy: 0.8253\n",
            "Epoch 5/50\n",
            "625/625 [==============================] - 2s 4ms/step - loss: 0.2457 - accuracy: 0.8985 - val_loss: 0.4229 - val_accuracy: 0.8217\n",
            "Epoch 6/50\n",
            "625/625 [==============================] - 2s 3ms/step - loss: 0.2100 - accuracy: 0.9144 - val_loss: 0.4726 - val_accuracy: 0.8111\n",
            "Epoch 7/50\n",
            "625/625 [==============================] - 2s 3ms/step - loss: 0.1782 - accuracy: 0.9297 - val_loss: 0.5113 - val_accuracy: 0.8082\n",
            "Epoch 8/50\n",
            "625/625 [==============================] - 2s 3ms/step - loss: 0.1488 - accuracy: 0.9433 - val_loss: 0.5818 - val_accuracy: 0.8071\n",
            "Epoch 9/50\n",
            "625/625 [==============================] - 2s 3ms/step - loss: 0.1215 - accuracy: 0.9542 - val_loss: 0.6475 - val_accuracy: 0.8028\n",
            "Epoch 10/50\n",
            "625/625 [==============================] - 2s 3ms/step - loss: 0.0992 - accuracy: 0.9649 - val_loss: 0.7457 - val_accuracy: 0.7991\n",
            "Epoch 11/50\n",
            "625/625 [==============================] - 2s 3ms/step - loss: 0.0798 - accuracy: 0.9718 - val_loss: 0.8225 - val_accuracy: 0.7953\n",
            "Epoch 12/50\n",
            "625/625 [==============================] - 2s 3ms/step - loss: 0.0685 - accuracy: 0.9768 - val_loss: 0.9307 - val_accuracy: 0.7876\n",
            "Epoch 13/50\n",
            "625/625 [==============================] - 2s 3ms/step - loss: 0.0602 - accuracy: 0.9783 - val_loss: 1.0102 - val_accuracy: 0.7977\n",
            "Epoch 14/50\n",
            "625/625 [==============================] - 2s 3ms/step - loss: 0.0530 - accuracy: 0.9811 - val_loss: 1.1556 - val_accuracy: 0.7918\n",
            "Epoch 15/50\n",
            "625/625 [==============================] - 2s 3ms/step - loss: 0.0463 - accuracy: 0.9824 - val_loss: 1.1691 - val_accuracy: 0.7922\n",
            "Epoch 16/50\n",
            "625/625 [==============================] - 2s 4ms/step - loss: 0.0416 - accuracy: 0.9860 - val_loss: 1.2623 - val_accuracy: 0.7816\n",
            "Epoch 17/50\n",
            "625/625 [==============================] - 2s 4ms/step - loss: 0.0409 - accuracy: 0.9843 - val_loss: 1.3132 - val_accuracy: 0.7900\n",
            "Epoch 18/50\n",
            "625/625 [==============================] - 2s 3ms/step - loss: 0.0424 - accuracy: 0.9843 - val_loss: 1.4336 - val_accuracy: 0.7927\n",
            "Epoch 19/50\n",
            "625/625 [==============================] - 2s 3ms/step - loss: 0.0385 - accuracy: 0.9856 - val_loss: 1.3861 - val_accuracy: 0.7874\n",
            "Epoch 20/50\n",
            "625/625 [==============================] - 2s 4ms/step - loss: 0.0327 - accuracy: 0.9879 - val_loss: 1.4836 - val_accuracy: 0.7819\n",
            "Epoch 21/50\n",
            "625/625 [==============================] - 2s 4ms/step - loss: 0.0330 - accuracy: 0.9876 - val_loss: 1.4774 - val_accuracy: 0.7885\n",
            "Epoch 22/50\n",
            "625/625 [==============================] - 2s 4ms/step - loss: 0.0317 - accuracy: 0.9876 - val_loss: 1.6373 - val_accuracy: 0.7872\n",
            "Epoch 23/50\n",
            "625/625 [==============================] - 2s 4ms/step - loss: 0.0335 - accuracy: 0.9867 - val_loss: 1.5543 - val_accuracy: 0.7885\n",
            "Epoch 24/50\n",
            "625/625 [==============================] - 2s 4ms/step - loss: 0.0318 - accuracy: 0.9876 - val_loss: 1.6905 - val_accuracy: 0.7883\n",
            "Epoch 25/50\n",
            "625/625 [==============================] - 2s 4ms/step - loss: 0.0310 - accuracy: 0.9882 - val_loss: 1.6056 - val_accuracy: 0.7967\n",
            "Epoch 26/50\n",
            "625/625 [==============================] - 2s 4ms/step - loss: 0.0290 - accuracy: 0.9892 - val_loss: 1.7862 - val_accuracy: 0.7855\n",
            "Epoch 27/50\n",
            "625/625 [==============================] - 2s 3ms/step - loss: 0.0290 - accuracy: 0.9889 - val_loss: 1.7737 - val_accuracy: 0.7910\n",
            "Epoch 28/50\n",
            "625/625 [==============================] - 2s 4ms/step - loss: 0.0255 - accuracy: 0.9901 - val_loss: 1.7921 - val_accuracy: 0.7907\n",
            "Epoch 29/50\n",
            "625/625 [==============================] - 2s 3ms/step - loss: 0.0228 - accuracy: 0.9910 - val_loss: 1.8366 - val_accuracy: 0.7864\n",
            "Epoch 30/50\n",
            "625/625 [==============================] - 2s 3ms/step - loss: 0.0270 - accuracy: 0.9897 - val_loss: 1.8979 - val_accuracy: 0.7849\n",
            "Epoch 31/50\n",
            "625/625 [==============================] - 2s 4ms/step - loss: 0.0279 - accuracy: 0.9887 - val_loss: 1.8314 - val_accuracy: 0.7900\n",
            "Epoch 32/50\n",
            "625/625 [==============================] - 2s 3ms/step - loss: 0.0297 - accuracy: 0.9876 - val_loss: 1.9057 - val_accuracy: 0.7930\n",
            "Epoch 33/50\n",
            "625/625 [==============================] - 2s 3ms/step - loss: 0.0243 - accuracy: 0.9904 - val_loss: 2.1844 - val_accuracy: 0.7892\n",
            "Epoch 34/50\n",
            "625/625 [==============================] - 2s 4ms/step - loss: 0.0252 - accuracy: 0.9893 - val_loss: 2.1116 - val_accuracy: 0.7857\n",
            "Epoch 35/50\n",
            "625/625 [==============================] - 2s 4ms/step - loss: 0.0223 - accuracy: 0.9908 - val_loss: 2.1720 - val_accuracy: 0.7848\n",
            "Epoch 36/50\n",
            "625/625 [==============================] - 2s 3ms/step - loss: 0.0225 - accuracy: 0.9908 - val_loss: 2.1153 - val_accuracy: 0.7863\n",
            "Epoch 37/50\n",
            "625/625 [==============================] - 2s 3ms/step - loss: 0.0217 - accuracy: 0.9905 - val_loss: 1.9721 - val_accuracy: 0.7852\n",
            "Epoch 38/50\n",
            "625/625 [==============================] - 2s 3ms/step - loss: 0.0225 - accuracy: 0.9902 - val_loss: 2.1396 - val_accuracy: 0.7883\n",
            "Epoch 39/50\n",
            "625/625 [==============================] - 2s 3ms/step - loss: 0.0196 - accuracy: 0.9916 - val_loss: 2.1430 - val_accuracy: 0.7880\n",
            "Epoch 40/50\n",
            "625/625 [==============================] - 2s 3ms/step - loss: 0.0218 - accuracy: 0.9909 - val_loss: 2.3182 - val_accuracy: 0.7816\n",
            "Epoch 41/50\n",
            "625/625 [==============================] - 2s 3ms/step - loss: 0.0293 - accuracy: 0.9890 - val_loss: 2.0407 - val_accuracy: 0.7834\n",
            "Epoch 42/50\n",
            "625/625 [==============================] - 2s 3ms/step - loss: 0.0245 - accuracy: 0.9897 - val_loss: 2.1677 - val_accuracy: 0.7858\n",
            "Epoch 43/50\n",
            "625/625 [==============================] - 2s 3ms/step - loss: 0.0216 - accuracy: 0.9904 - val_loss: 2.2817 - val_accuracy: 0.7906\n",
            "Epoch 44/50\n",
            "625/625 [==============================] - 2s 4ms/step - loss: 0.0204 - accuracy: 0.9913 - val_loss: 2.1980 - val_accuracy: 0.7870\n",
            "Epoch 45/50\n",
            "625/625 [==============================] - 2s 3ms/step - loss: 0.0172 - accuracy: 0.9925 - val_loss: 2.2725 - val_accuracy: 0.7904\n",
            "Epoch 46/50\n",
            "625/625 [==============================] - 2s 3ms/step - loss: 0.0184 - accuracy: 0.9927 - val_loss: 2.4671 - val_accuracy: 0.7801\n",
            "Epoch 47/50\n",
            "625/625 [==============================] - 2s 3ms/step - loss: 0.0177 - accuracy: 0.9921 - val_loss: 2.6111 - val_accuracy: 0.7831\n",
            "Epoch 48/50\n",
            "625/625 [==============================] - 2s 4ms/step - loss: 0.0214 - accuracy: 0.9911 - val_loss: 2.3527 - val_accuracy: 0.7934\n",
            "Epoch 49/50\n",
            "625/625 [==============================] - 2s 3ms/step - loss: 0.0322 - accuracy: 0.9875 - val_loss: 2.2436 - val_accuracy: 0.7910\n",
            "Epoch 50/50\n",
            "625/625 [==============================] - 2s 3ms/step - loss: 0.0221 - accuracy: 0.9901 - val_loss: 2.3040 - val_accuracy: 0.7894\n"
          ],
          "name": "stdout"
        }
      ]
    },
    {
      "cell_type": "code",
      "metadata": {
        "colab_type": "code",
        "id": "g9DC6dmLF8DC",
        "colab": {
          "base_uri": "https://localhost:8080/",
          "height": 542
        },
        "outputId": "4cdeadc3-74bb-45bf-94ab-45839aa5aa9f"
      },
      "source": [
        "import matplotlib.pyplot as plt\n",
        "\n",
        "def plot_graphs(history, string):\n",
        "  plt.plot(history.history[string])\n",
        "  plt.plot(history.history['val_'+string])\n",
        "  plt.xlabel(\"Epochs\")\n",
        "  plt.ylabel(string)\n",
        "  plt.legend([string, 'val_'+string])\n",
        "  plt.show()\n",
        "\n",
        "plot_graphs(history, 'accuracy')\n",
        "plot_graphs(history, 'loss')"
      ],
      "execution_count": 8,
      "outputs": [
        {
          "output_type": "display_data",
          "data": {
            "image/png": "[encoded data removed]",
            "text/plain": [
              "<Figure size 432x288 with 1 Axes>"
            ]
          },
          "metadata": {
            "tags": [],
            "needs_background": "light"
          }
        },
        {
          "output_type": "display_data",
          "data": {
            "image/png": "[encoded data removed]",
            "text/plain": [
              "<Figure size 432x288 with 1 Axes>"
            ]
          },
          "metadata": {
            "tags": [],
            "needs_background": "light"
          }
        }
      ]
    },
    {
      "cell_type": "code",
      "metadata": {
        "colab_type": "code",
        "id": "7ZEZIUppGhdi",
        "colab": {}
      },
      "source": [
        "model.save(\"test.h5\")"
      ],
      "execution_count": 9,
      "outputs": []
    }
  ]
}