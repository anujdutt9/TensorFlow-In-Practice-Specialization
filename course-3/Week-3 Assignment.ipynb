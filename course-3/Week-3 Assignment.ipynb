{
  "nbformat": 4,
  "nbformat_minor": 0,
  "metadata": {
    "accelerator": "GPU",
    "colab": {
      "name": "NLP Course - Week 3 Exercise Answer.ipynb",
      "provenance": [],
      "toc_visible": true
    },
    "kernelspec": {
      "display_name": "Python 3",
      "language": "python",
      "name": "python3"
    },
    "language_info": {
      "codemirror_mode": {
        "name": "ipython",
        "version": 3
      },
      "file_extension": ".py",
      "mimetype": "text/x-python",
      "name": "python",
      "nbconvert_exporter": "python",
      "pygments_lexer": "ipython3",
      "version": "3.7.6"
    }
  },
  "cells": [
    {
      "cell_type": "code",
      "metadata": {
        "colab_type": "code",
        "id": "hmA6EzkQJ5jt",
        "colab": {}
      },
      "source": [
        "# Import Dependencies\n",
        "import json\n",
        "import tensorflow as tf\n",
        "import csv\n",
        "import random\n",
        "import numpy as np\n",
        "from tensorflow.keras.preprocessing.text import Tokenizer\n",
        "from tensorflow.keras.preprocessing.sequence import pad_sequences\n",
        "from tensorflow.keras.utils import to_categorical\n",
        "from tensorflow.keras import regularizers"
      ],
      "execution_count": 1,
      "outputs": []
    },
    {
      "cell_type": "code",
      "metadata": {
        "colab_type": "code",
        "id": "bM0l_dORKqE0",
        "colab": {
          "base_uri": "https://localhost:8080/",
          "height": 204
        },
        "outputId": "88377f75-a5a6-4762-dd2a-d902e51b8816"
      },
      "source": [
        "# Download Dataset\n",
        "!wget --no-check-certificate \\\n",
        "    https://storage.googleapis.com/laurencemoroney-blog.appspot.com/training_cleaned.csv \\\n",
        "    -O /tmp/training_cleaned.csv"
      ],
      "execution_count": 2,
      "outputs": [
        {
          "output_type": "stream",
          "text": [
            "--2020-08-16 22:20:47--  https://storage.googleapis.com/laurencemoroney-blog.appspot.com/training_cleaned.csv\n",
            "Resolving storage.googleapis.com (storage.googleapis.com)... 74.125.20.128, 74.125.142.128, 74.125.195.128, ...\n",
            "Connecting to storage.googleapis.com (storage.googleapis.com)|74.125.20.128|:443... connected.\n",
            "HTTP request sent, awaiting response... 200 OK\n",
            "Length: 238942690 (228M) [application/octet-stream]\n",
            "Saving to: ‘/tmp/training_cleaned.csv’\n",
            "\n",
            "/tmp/training_clean 100%[===================>] 227.87M   104MB/s    in 2.2s    \n",
            "\n",
            "2020-08-16 22:20:49 (104 MB/s) - ‘/tmp/training_cleaned.csv’ saved [238942690/238942690]\n",
            "\n"
          ],
          "name": "stdout"
        }
      ]
    },
    {
      "cell_type": "code",
      "metadata": {
        "id": "sdDDMQ6VWqDS",
        "colab_type": "code",
        "colab": {}
      },
      "source": [
        "# Define Hyperparameters\n",
        "embedding_dim = 100\n",
        "max_length = 16\n",
        "trunc_type='post'\n",
        "padding_type='post'\n",
        "oov_tok = \"<OOV>\"\n",
        "training_size=160000\n",
        "test_portion=.1\n",
        "\n",
        "corpus = []"
      ],
      "execution_count": 3,
      "outputs": []
    },
    {
      "cell_type": "code",
      "metadata": {
        "id": "yxIxP0w7WR_i",
        "colab_type": "code",
        "colab": {}
      },
      "source": [
        "# Read Dataset\n",
        "num_sentences = 0\n",
        "\n",
        "with open(\"/tmp/training_cleaned.csv\") as csvfile:\n",
        "    reader = csv.reader(csvfile, delimiter=',')\n",
        "    for row in reader:\n",
        "        list_item=[]\n",
        "        list_item.append(row[5])\n",
        "        this_label=row[0]\n",
        "        if this_label=='0':\n",
        "            list_item.append(0)\n",
        "        else:\n",
        "            list_item.append(1)\n",
        "        num_sentences = num_sentences + 1\n",
        "        corpus.append(list_item)"
      ],
      "execution_count": 4,
      "outputs": []
    },
    {
      "cell_type": "code",
      "metadata": {
        "colab_type": "code",
        "id": "3kxblBUjEUX-",
        "colab": {
          "base_uri": "https://localhost:8080/",
          "height": 68
        },
        "outputId": "e596b171-4d68-443f-df2f-e4e9ad0cf11c"
      },
      "source": [
        "print(num_sentences)\n",
        "print(len(corpus))\n",
        "print(corpus[1])\n",
        "\n",
        "# Expected Output:\n",
        "# 1600000\n",
        "# 1600000\n",
        "# [\"is upset that he can't update his Facebook by texting it... and might cry as a result  School today also. Blah!\", 0]"
      ],
      "execution_count": 5,
      "outputs": [
        {
          "output_type": "stream",
          "text": [
            "1600000\n",
            "1600000\n",
            "[\"is upset that he can't update his Facebook by texting it... and might cry as a result  School today also. Blah!\", 0]\n"
          ],
          "name": "stdout"
        }
      ]
    },
    {
      "cell_type": "code",
      "metadata": {
        "colab_type": "code",
        "id": "ohOGz24lsNAD",
        "colab": {}
      },
      "source": [
        "# Prepare Training and Test Dataset\n",
        "sentences=[]\n",
        "labels=[]\n",
        "random.shuffle(corpus)\n",
        "for x in range(training_size):\n",
        "    sentences.append(corpus[x][0])\n",
        "    labels.append(corpus[x][1])\n",
        "\n",
        "\n",
        "tokenizer = Tokenizer()\n",
        "tokenizer.fit_on_texts(sentences)\n",
        "\n",
        "word_index = tokenizer.word_index\n",
        "vocab_size=len(word_index)\n",
        "\n",
        "sequences = tokenizer.texts_to_sequences(sentences)\n",
        "padded = pad_sequences(sequences, maxlen=max_length, padding=padding_type, truncating=trunc_type)\n",
        "\n",
        "split = int(test_portion * training_size)\n",
        "\n",
        "test_sequences = padded[0:split]\n",
        "training_sequences = padded[split:training_size]\n",
        "test_labels = labels[0:split]\n",
        "training_labels = labels[split:training_size]"
      ],
      "execution_count": 6,
      "outputs": []
    },
    {
      "cell_type": "code",
      "metadata": {
        "colab_type": "code",
        "id": "gIrtRem1En3N",
        "colab": {
          "base_uri": "https://localhost:8080/",
          "height": 51
        },
        "outputId": "56444bbc-dafc-4a0c-8eda-18a2a41c78b5"
      },
      "source": [
        "print(vocab_size)\n",
        "print(word_index['i'])\n",
        "# Expected Output\n",
        "# 138858\n",
        "# 1"
      ],
      "execution_count": 7,
      "outputs": [
        {
          "output_type": "stream",
          "text": [
            "138307\n",
            "1\n"
          ],
          "name": "stdout"
        }
      ]
    },
    {
      "cell_type": "code",
      "metadata": {
        "colab_type": "code",
        "id": "C1zdgJkusRh0",
        "colab": {
          "base_uri": "https://localhost:8080/",
          "height": 204
        },
        "outputId": "ea9f6acd-ae09-45a0-a807-1994e4456ee1"
      },
      "source": [
        "# Download GloVe Vector\n",
        "!wget --no-check-certificate \\\n",
        "    https://storage.googleapis.com/laurencemoroney-blog.appspot.com/glove.6B.100d.txt \\\n",
        "    -O /tmp/glove.6B.100d.txt"
      ],
      "execution_count": 8,
      "outputs": [
        {
          "output_type": "stream",
          "text": [
            "--2020-08-16 22:21:02--  https://storage.googleapis.com/laurencemoroney-blog.appspot.com/glove.6B.100d.txt\n",
            "Resolving storage.googleapis.com (storage.googleapis.com)... 74.125.20.128, 74.125.142.128, 74.125.195.128, ...\n",
            "Connecting to storage.googleapis.com (storage.googleapis.com)|74.125.20.128|:443... connected.\n",
            "HTTP request sent, awaiting response... 200 OK\n",
            "Length: 347116733 (331M) [text/plain]\n",
            "Saving to: ‘/tmp/glove.6B.100d.txt’\n",
            "\n",
            "/tmp/glove.6B.100d. 100%[===================>] 331.04M   107MB/s    in 3.1s    \n",
            "\n",
            "2020-08-16 22:21:06 (107 MB/s) - ‘/tmp/glove.6B.100d.txt’ saved [347116733/347116733]\n",
            "\n"
          ],
          "name": "stdout"
        }
      ]
    },
    {
      "cell_type": "code",
      "metadata": {
        "id": "LV68nw9AW1dw",
        "colab_type": "code",
        "colab": {}
      },
      "source": [
        "# Read Glove Vector Embeddings\n",
        "embeddings_index = {};\n",
        "with open('/tmp/glove.6B.100d.txt') as f:\n",
        "    for line in f:\n",
        "        values = line.split();\n",
        "        word = values[0];\n",
        "        coefs = np.asarray(values[1:], dtype='float32');\n",
        "        embeddings_index[word] = coefs;\n",
        "\n",
        "embeddings_matrix = np.zeros((vocab_size+1, embedding_dim));\n",
        "for word, i in word_index.items():\n",
        "    embedding_vector = embeddings_index.get(word);\n",
        "    if embedding_vector is not None:\n",
        "        embeddings_matrix[i] = embedding_vector;"
      ],
      "execution_count": 9,
      "outputs": []
    },
    {
      "cell_type": "code",
      "metadata": {
        "colab_type": "code",
        "id": "71NLk_lpFLNt",
        "colab": {
          "base_uri": "https://localhost:8080/",
          "height": 34
        },
        "outputId": "738a8d8a-0223-4e35-edaf-e318ffa5449e"
      },
      "source": [
        "print(len(embeddings_matrix))\n",
        "# Expected Output\n",
        "# 138859"
      ],
      "execution_count": 10,
      "outputs": [
        {
          "output_type": "stream",
          "text": [
            "138308\n"
          ],
          "name": "stdout"
        }
      ]
    },
    {
      "cell_type": "code",
      "metadata": {
        "colab_type": "code",
        "id": "iKKvbuEBOGFz",
        "colab": {
          "base_uri": "https://localhost:8080/",
          "height": 357
        },
        "outputId": "18d13812-a8c6-4601-9067-56fcf7c7fd57"
      },
      "source": [
        "# Model Definition\n",
        "model = tf.keras.Sequential([\n",
        "    tf.keras.layers.Embedding(vocab_size+1, embedding_dim, input_length=max_length, weights=[embeddings_matrix], trainable=False),\n",
        "    tf.keras.layers.Dropout(0.2),\n",
        "    tf.keras.layers.Conv1D(64, 5, activation='relu'),\n",
        "    tf.keras.layers.MaxPooling1D(pool_size=4),\n",
        "    tf.keras.layers.LSTM(64),\n",
        "    tf.keras.layers.Dense(1, activation='sigmoid')\n",
        "])\n",
        "\n",
        "# Model Summary\n",
        "model.summary()"
      ],
      "execution_count": 11,
      "outputs": [
        {
          "output_type": "stream",
          "text": [
            "Model: \"sequential\"\n",
            "_________________________________________________________________\n",
            "Layer (type)                 Output Shape              Param #   \n",
            "=================================================================\n",
            "embedding (Embedding)        (None, 16, 100)           13830800  \n",
            "_________________________________________________________________\n",
            "dropout (Dropout)            (None, 16, 100)           0         \n",
            "_________________________________________________________________\n",
            "conv1d (Conv1D)              (None, 12, 64)            32064     \n",
            "_________________________________________________________________\n",
            "max_pooling1d (MaxPooling1D) (None, 3, 64)             0         \n",
            "_________________________________________________________________\n",
            "lstm (LSTM)                  (None, 64)                33024     \n",
            "_________________________________________________________________\n",
            "dense (Dense)                (None, 1)                 65        \n",
            "=================================================================\n",
            "Total params: 13,895,953\n",
            "Trainable params: 65,153\n",
            "Non-trainable params: 13,830,800\n",
            "_________________________________________________________________\n"
          ],
          "name": "stdout"
        }
      ]
    },
    {
      "cell_type": "code",
      "metadata": {
        "id": "j4qKZT97XAT2",
        "colab_type": "code",
        "colab": {}
      },
      "source": [
        "# Compile the Model\n",
        "model.compile(loss='binary_crossentropy',optimizer='adam',metrics=['accuracy'])"
      ],
      "execution_count": 12,
      "outputs": []
    },
    {
      "cell_type": "code",
      "metadata": {
        "id": "BB6urRKAXBwW",
        "colab_type": "code",
        "colab": {
          "base_uri": "https://localhost:8080/",
          "height": 1000
        },
        "outputId": "55b590e7-d918-4511-fc23-ad396923aeb8"
      },
      "source": [
        "# Train the Model\n",
        "num_epochs = 50\n",
        "\n",
        "training_padded = np.array(training_sequences)\n",
        "training_labels = np.array(training_labels)\n",
        "testing_padded = np.array(test_sequences)\n",
        "testing_labels = np.array(test_labels)\n",
        "\n",
        "history = model.fit(training_padded, training_labels, epochs=num_epochs, validation_data=(testing_padded, testing_labels), verbose=2)\n",
        "print(\"Training Complete\")"
      ],
      "execution_count": 13,
      "outputs": [
        {
          "output_type": "stream",
          "text": [
            "Epoch 1/50\n",
            "4500/4500 - 15s - loss: 0.5659 - accuracy: 0.7017 - val_loss: 0.5343 - val_accuracy: 0.7264\n",
            "Epoch 2/50\n",
            "4500/4500 - 14s - loss: 0.5280 - accuracy: 0.7310 - val_loss: 0.5175 - val_accuracy: 0.7405\n",
            "Epoch 3/50\n",
            "4500/4500 - 15s - loss: 0.5107 - accuracy: 0.7429 - val_loss: 0.5142 - val_accuracy: 0.7440\n",
            "Epoch 4/50\n",
            "4500/4500 - 14s - loss: 0.4993 - accuracy: 0.7522 - val_loss: 0.5092 - val_accuracy: 0.7489\n",
            "Epoch 5/50\n",
            "4500/4500 - 14s - loss: 0.4892 - accuracy: 0.7585 - val_loss: 0.5060 - val_accuracy: 0.7494\n",
            "Epoch 6/50\n",
            "4500/4500 - 14s - loss: 0.4837 - accuracy: 0.7612 - val_loss: 0.5031 - val_accuracy: 0.7507\n",
            "Epoch 7/50\n",
            "4500/4500 - 14s - loss: 0.4769 - accuracy: 0.7666 - val_loss: 0.5102 - val_accuracy: 0.7461\n",
            "Epoch 8/50\n",
            "4500/4500 - 15s - loss: 0.4713 - accuracy: 0.7687 - val_loss: 0.5047 - val_accuracy: 0.7487\n",
            "Epoch 9/50\n",
            "4500/4500 - 14s - loss: 0.4675 - accuracy: 0.7725 - val_loss: 0.5088 - val_accuracy: 0.7489\n",
            "Epoch 10/50\n",
            "4500/4500 - 14s - loss: 0.4649 - accuracy: 0.7734 - val_loss: 0.5060 - val_accuracy: 0.7501\n",
            "Epoch 11/50\n",
            "4500/4500 - 15s - loss: 0.4608 - accuracy: 0.7777 - val_loss: 0.5127 - val_accuracy: 0.7494\n",
            "Epoch 12/50\n",
            "4500/4500 - 14s - loss: 0.4570 - accuracy: 0.7793 - val_loss: 0.5041 - val_accuracy: 0.7537\n",
            "Epoch 13/50\n",
            "4500/4500 - 14s - loss: 0.4542 - accuracy: 0.7805 - val_loss: 0.5084 - val_accuracy: 0.7526\n",
            "Epoch 14/50\n",
            "4500/4500 - 14s - loss: 0.4514 - accuracy: 0.7824 - val_loss: 0.5133 - val_accuracy: 0.7499\n",
            "Epoch 15/50\n",
            "4500/4500 - 15s - loss: 0.4493 - accuracy: 0.7838 - val_loss: 0.5126 - val_accuracy: 0.7508\n",
            "Epoch 16/50\n",
            "4500/4500 - 14s - loss: 0.4478 - accuracy: 0.7855 - val_loss: 0.5085 - val_accuracy: 0.7520\n",
            "Epoch 17/50\n",
            "4500/4500 - 15s - loss: 0.4465 - accuracy: 0.7843 - val_loss: 0.5151 - val_accuracy: 0.7492\n",
            "Epoch 18/50\n",
            "4500/4500 - 14s - loss: 0.4453 - accuracy: 0.7864 - val_loss: 0.5193 - val_accuracy: 0.7514\n",
            "Epoch 19/50\n",
            "4500/4500 - 14s - loss: 0.4435 - accuracy: 0.7859 - val_loss: 0.5120 - val_accuracy: 0.7500\n",
            "Epoch 20/50\n",
            "4500/4500 - 15s - loss: 0.4407 - accuracy: 0.7885 - val_loss: 0.5124 - val_accuracy: 0.7516\n",
            "Epoch 21/50\n",
            "4500/4500 - 14s - loss: 0.4418 - accuracy: 0.7886 - val_loss: 0.5228 - val_accuracy: 0.7483\n",
            "Epoch 22/50\n",
            "4500/4500 - 14s - loss: 0.4410 - accuracy: 0.7882 - val_loss: 0.5162 - val_accuracy: 0.7482\n",
            "Epoch 23/50\n",
            "4500/4500 - 14s - loss: 0.4393 - accuracy: 0.7911 - val_loss: 0.5166 - val_accuracy: 0.7473\n",
            "Epoch 24/50\n",
            "4500/4500 - 15s - loss: 0.4367 - accuracy: 0.7906 - val_loss: 0.5233 - val_accuracy: 0.7520\n",
            "Epoch 25/50\n",
            "4500/4500 - 15s - loss: 0.4364 - accuracy: 0.7913 - val_loss: 0.5212 - val_accuracy: 0.7494\n",
            "Epoch 26/50\n",
            "4500/4500 - 14s - loss: 0.4358 - accuracy: 0.7919 - val_loss: 0.5166 - val_accuracy: 0.7496\n",
            "Epoch 27/50\n",
            "4500/4500 - 14s - loss: 0.4366 - accuracy: 0.7915 - val_loss: 0.5246 - val_accuracy: 0.7515\n",
            "Epoch 28/50\n",
            "4500/4500 - 14s - loss: 0.4348 - accuracy: 0.7918 - val_loss: 0.5206 - val_accuracy: 0.7511\n",
            "Epoch 29/50\n",
            "4500/4500 - 14s - loss: 0.4336 - accuracy: 0.7935 - val_loss: 0.5206 - val_accuracy: 0.7509\n",
            "Epoch 30/50\n",
            "4500/4500 - 14s - loss: 0.4334 - accuracy: 0.7921 - val_loss: 0.5143 - val_accuracy: 0.7488\n",
            "Epoch 31/50\n",
            "4500/4500 - 15s - loss: 0.4320 - accuracy: 0.7945 - val_loss: 0.5152 - val_accuracy: 0.7503\n",
            "Epoch 32/50\n",
            "4500/4500 - 14s - loss: 0.4303 - accuracy: 0.7955 - val_loss: 0.5209 - val_accuracy: 0.7489\n",
            "Epoch 33/50\n",
            "4500/4500 - 15s - loss: 0.4314 - accuracy: 0.7944 - val_loss: 0.5206 - val_accuracy: 0.7521\n",
            "Epoch 34/50\n",
            "4500/4500 - 14s - loss: 0.4317 - accuracy: 0.7957 - val_loss: 0.5262 - val_accuracy: 0.7511\n",
            "Epoch 35/50\n",
            "4500/4500 - 14s - loss: 0.4317 - accuracy: 0.7946 - val_loss: 0.5204 - val_accuracy: 0.7524\n",
            "Epoch 36/50\n",
            "4500/4500 - 15s - loss: 0.4303 - accuracy: 0.7952 - val_loss: 0.5241 - val_accuracy: 0.7517\n",
            "Epoch 37/50\n",
            "4500/4500 - 15s - loss: 0.4293 - accuracy: 0.7957 - val_loss: 0.5205 - val_accuracy: 0.7504\n",
            "Epoch 38/50\n",
            "4500/4500 - 15s - loss: 0.4293 - accuracy: 0.7962 - val_loss: 0.5197 - val_accuracy: 0.7507\n",
            "Epoch 39/50\n",
            "4500/4500 - 14s - loss: 0.4298 - accuracy: 0.7953 - val_loss: 0.5214 - val_accuracy: 0.7494\n",
            "Epoch 40/50\n",
            "4500/4500 - 14s - loss: 0.4288 - accuracy: 0.7962 - val_loss: 0.5287 - val_accuracy: 0.7484\n",
            "Epoch 41/50\n",
            "4500/4500 - 15s - loss: 0.4280 - accuracy: 0.7969 - val_loss: 0.5272 - val_accuracy: 0.7464\n",
            "Epoch 42/50\n",
            "4500/4500 - 15s - loss: 0.4265 - accuracy: 0.7983 - val_loss: 0.5225 - val_accuracy: 0.7520\n",
            "Epoch 43/50\n",
            "4500/4500 - 14s - loss: 0.4267 - accuracy: 0.7974 - val_loss: 0.5190 - val_accuracy: 0.7509\n",
            "Epoch 44/50\n",
            "4500/4500 - 15s - loss: 0.4259 - accuracy: 0.7976 - val_loss: 0.5253 - val_accuracy: 0.7494\n",
            "Epoch 45/50\n",
            "4500/4500 - 14s - loss: 0.4257 - accuracy: 0.7979 - val_loss: 0.5156 - val_accuracy: 0.7481\n",
            "Epoch 46/50\n",
            "4500/4500 - 14s - loss: 0.4261 - accuracy: 0.7972 - val_loss: 0.5247 - val_accuracy: 0.7476\n",
            "Epoch 47/50\n",
            "4500/4500 - 15s - loss: 0.4270 - accuracy: 0.7970 - val_loss: 0.5191 - val_accuracy: 0.7492\n",
            "Epoch 48/50\n",
            "4500/4500 - 14s - loss: 0.4267 - accuracy: 0.7976 - val_loss: 0.5230 - val_accuracy: 0.7505\n",
            "Epoch 49/50\n",
            "4500/4500 - 14s - loss: 0.4265 - accuracy: 0.7968 - val_loss: 0.5304 - val_accuracy: 0.7470\n",
            "Epoch 50/50\n",
            "4500/4500 - 14s - loss: 0.4260 - accuracy: 0.7973 - val_loss: 0.5270 - val_accuracy: 0.7471\n",
            "Training Complete\n"
          ],
          "name": "stdout"
        }
      ]
    },
    {
      "cell_type": "code",
      "metadata": {
        "colab_type": "code",
        "id": "qxju4ItJKO8F",
        "colab": {
          "base_uri": "https://localhost:8080/",
          "height": 607
        },
        "outputId": "329632e2-ee6c-45ff-8c1e-7c6ec789ff1e"
      },
      "source": [
        "import matplotlib.image  as mpimg\n",
        "import matplotlib.pyplot as plt\n",
        "\n",
        "#-----------------------------------------------------------\n",
        "# Retrieve a list of list results on training and test data\n",
        "# sets for each training epoch\n",
        "#-----------------------------------------------------------\n",
        "acc=history.history['accuracy']\n",
        "val_acc=history.history['val_accuracy']\n",
        "loss=history.history['loss']\n",
        "val_loss=history.history['val_loss']\n",
        "\n",
        "epochs=range(len(acc)) # Get number of epochs\n",
        "\n",
        "#------------------------------------------------\n",
        "# Plot training and validation accuracy per epoch\n",
        "#------------------------------------------------\n",
        "plt.plot(epochs, acc, 'r')\n",
        "plt.plot(epochs, val_acc, 'b')\n",
        "plt.title('Training and validation accuracy')\n",
        "plt.xlabel(\"Epochs\")\n",
        "plt.ylabel(\"Accuracy\")\n",
        "plt.legend([\"Accuracy\", \"Validation Accuracy\"])\n",
        "\n",
        "plt.figure()\n",
        "\n",
        "#------------------------------------------------\n",
        "# Plot training and validation loss per epoch\n",
        "#------------------------------------------------\n",
        "plt.plot(epochs, loss, 'r')\n",
        "plt.plot(epochs, val_loss, 'b')\n",
        "plt.title('Training and validation loss')\n",
        "plt.xlabel(\"Epochs\")\n",
        "plt.ylabel(\"Loss\")\n",
        "plt.legend([\"Loss\", \"Validation Loss\"])\n",
        "\n",
        "plt.figure()\n",
        "\n",
        "\n",
        "# Expected Output\n",
        "# A chart where the validation loss does not increase sharply!"
      ],
      "execution_count": 14,
      "outputs": [
        {
          "output_type": "execute_result",
          "data": {
            "text/plain": [
              "<Figure size 432x288 with 0 Axes>"
            ]
          },
          "metadata": {
            "tags": []
          },
          "execution_count": 14
        },
        {
          "output_type": "display_data",
          "data": {
            "image/png": "[encoded data removed]",
            "text/plain": [
              "<Figure size 432x288 with 1 Axes>"
            ]
          },
          "metadata": {
            "tags": [],
            "needs_background": "light"
          }
        },
        {
          "output_type": "display_data",
          "data": {
            "image/png": "[encoded data removed]",
            "text/plain": [
              "<Figure size 432x288 with 1 Axes>"
            ]
          },
          "metadata": {
            "tags": [],
            "needs_background": "light"
          }
        },
        {
          "output_type": "display_data",
          "data": {
            "text/plain": [
              "<Figure size 432x288 with 0 Axes>"
            ]
          },
          "metadata": {
            "tags": []
          }
        }
      ]
    }
  ]
}