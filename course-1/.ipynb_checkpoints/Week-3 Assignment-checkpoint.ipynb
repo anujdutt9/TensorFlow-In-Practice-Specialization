{
 "cells": [
  {
   "cell_type": "markdown",
   "metadata": {},
   "source": [
    "***Write an MNIST classifier that trains to 99% accuracy or above, and does it without a fixed number of epochs -- i.e. you should stop training once you reach that level of accuracy.***\n",
    "\n",
    "Some notes:\n",
    "\n",
    "1. It should succeed in less than 10 epochs, so it is okay to change epochs= to 10, but nothing larger\n",
    "2. When it reaches 99% or greater it should print out the string \"Reached 99% accuracy so cancelling training!\"\n",
    "3. If you add any additional variables, make sure you use the same names as the ones used in the class"
   ]
  },
  {
   "cell_type": "code",
   "execution_count": 1,
   "metadata": {},
   "outputs": [],
   "source": [
    "import numpy as np\n",
    "import tensorflow as tf\n",
    "import matplotlib.pyplot as plt"
   ]
  },
  {
   "cell_type": "code",
   "execution_count": 2,
   "metadata": {},
   "outputs": [],
   "source": [
    "# Load Dataset\n",
    "dataset = tf.keras.datasets.mnist\n",
    "(x_train, y_train), (x_test, y_test) = dataset.load_data()"
   ]
  },
  {
   "cell_type": "code",
   "execution_count": 3,
   "metadata": {},
   "outputs": [
    {
     "data": {
      "text/plain": [
       "(60000, 60000)"
      ]
     },
     "execution_count": 3,
     "metadata": {},
     "output_type": "execute_result"
    }
   ],
   "source": [
    "len(x_train), len(y_train)"
   ]
  },
  {
   "cell_type": "code",
   "execution_count": 4,
   "metadata": {},
   "outputs": [
    {
     "data": {
      "text/plain": [
       "(10000, 10000)"
      ]
     },
     "execution_count": 4,
     "metadata": {},
     "output_type": "execute_result"
    }
   ],
   "source": [
    "len(x_test), len(y_test)"
   ]
  },
  {
   "cell_type": "code",
   "execution_count": 5,
   "metadata": {},
   "outputs": [
    {
     "data": {
      "text/plain": [
       "(28, 28)"
      ]
     },
     "execution_count": 5,
     "metadata": {},
     "output_type": "execute_result"
    }
   ],
   "source": [
    "# Sample Image from Dataset\n",
    "n = np.random.randint(0, len(x_train))\n",
    "img = x_train[n]\n",
    "img.shape"
   ]
  },
  {
   "cell_type": "code",
   "execution_count": 6,
   "metadata": {},
   "outputs": [
    {
     "data": {
      "text/plain": [
       "<matplotlib.image.AxesImage at 0x7ff2296fe898>"
      ]
     },
     "execution_count": 6,
     "metadata": {},
     "output_type": "execute_result"
    },
    {
     "data": {
      "image/png": "[encoded data removed]",
      "text/plain": [
       "<Figure size 432x288 with 1 Axes>"
      ]
     },
     "metadata": {
      "needs_background": "light"
     },
     "output_type": "display_data"
    }
   ],
   "source": [
    "plt.imshow(img, cmap='gray')"
   ]
  },
  {
   "cell_type": "code",
   "execution_count": 7,
   "metadata": {},
   "outputs": [
    {
     "data": {
      "text/plain": [
       "0"
      ]
     },
     "execution_count": 7,
     "metadata": {},
     "output_type": "execute_result"
    }
   ],
   "source": [
    "# Label for the Sample Image\n",
    "y_train[n]"
   ]
  },
  {
   "cell_type": "code",
   "execution_count": 8,
   "metadata": {},
   "outputs": [
    {
     "name": "stdout",
     "output_type": "stream",
     "text": [
      "Number of Classes:  10\n"
     ]
    }
   ],
   "source": [
    "# Total number of classes\n",
    "unique_labels = np.unique(y_train)\n",
    "n_classes = len(unique_labels)\n",
    "print('Number of Classes: ', n_classes)"
   ]
  },
  {
   "cell_type": "code",
   "execution_count": 9,
   "metadata": {},
   "outputs": [],
   "source": [
    "x_train = x_train.reshape(60000, 28, 28, 1)\n",
    "x_test = x_test.reshape(10000, 28, 28, 1)"
   ]
  },
  {
   "cell_type": "code",
   "execution_count": 10,
   "metadata": {},
   "outputs": [],
   "source": [
    "# Normalize Images\n",
    "x_train = x_train / 255.0\n",
    "x_test = x_test / 255.0"
   ]
  },
  {
   "cell_type": "markdown",
   "metadata": {},
   "source": [
    "### Model Definition"
   ]
  },
  {
   "cell_type": "code",
   "execution_count": 11,
   "metadata": {},
   "outputs": [],
   "source": [
    "# Custom Callback Class\n",
    "class customCallback(tf.keras.callbacks.Callback):\n",
    "    def on_epoch_end(self, epoch, logs={}):\n",
    "        if (logs['accuracy'] >= 0.998):\n",
    "            print(\"\\nReached 99.8% accuracy so cancelling training!\\n\")\n",
    "            self.model.stop_training = True"
   ]
  },
  {
   "cell_type": "code",
   "execution_count": 12,
   "metadata": {},
   "outputs": [],
   "source": [
    "def train_mnist():\n",
    "    # Instantiate Callback\n",
    "    callback = customCallback()\n",
    "    \n",
    "    # Model Architecture\n",
    "    model = tf.keras.models.Sequential([\n",
    "            tf.keras.layers.Conv2D(filters=64, kernel_size=(3,3), padding='same', activation=tf.nn.relu, input_shape=(28,28,1)),\n",
    "            tf.keras.layers.MaxPool2D(pool_size=(2,2)),\n",
    "            tf.keras.layers.Conv2D(filters=64, kernel_size=(3,3), padding='same', activation=tf.nn.relu),\n",
    "            tf.keras.layers.MaxPool2D(pool_size=(2,2)),\n",
    "            tf.keras.layers.Flatten(),\n",
    "            tf.keras.layers.Dense(units=128, activation=tf.nn.relu),\n",
    "            tf.keras.layers.Dense(units=n_classes, activation=tf.nn.softmax)\n",
    "    ])\n",
    "    \n",
    "    # Compile the Model\n",
    "    model.compile(optimizer='adam',\n",
    "                  loss='sparse_categorical_crossentropy',\n",
    "                  metrics=['accuracy'])\n",
    "    \n",
    "    # Train the Model\n",
    "    history = model.fit(\n",
    "        x=x_train, y=y_train, epochs=20,\n",
    "        validation_data=(x_test, y_test),\n",
    "        callbacks=[callback],\n",
    "        workers=4, use_multiprocessing=True\n",
    "    )\n",
    "    \n",
    "    return history.epoch, history.history['accuracy'][-1]"
   ]
  },
  {
   "cell_type": "code",
   "execution_count": 13,
   "metadata": {},
   "outputs": [
    {
     "name": "stdout",
     "output_type": "stream",
     "text": [
      "Epoch 1/20\n",
      "1875/1875 [==============================] - 37s 19ms/step - loss: 0.1157 - accuracy: 0.9647 - val_loss: 0.0468 - val_accuracy: 0.9856\n",
      "Epoch 2/20\n",
      "1875/1875 [==============================] - 40s 22ms/step - loss: 0.0395 - accuracy: 0.9876 - val_loss: 0.0584 - val_accuracy: 0.9802\n",
      "Epoch 3/20\n",
      "1875/1875 [==============================] - 43s 23ms/step - loss: 0.0268 - accuracy: 0.9914 - val_loss: 0.0258 - val_accuracy: 0.9914\n",
      "Epoch 4/20\n",
      "1875/1875 [==============================] - 45s 24ms/step - loss: 0.0190 - accuracy: 0.9941 - val_loss: 0.0297 - val_accuracy: 0.9897\n",
      "Epoch 5/20\n",
      "1875/1875 [==============================] - 47s 25ms/step - loss: 0.0134 - accuracy: 0.9954 - val_loss: 0.0281 - val_accuracy: 0.9911\n",
      "Epoch 6/20\n",
      "1875/1875 [==============================] - 46s 25ms/step - loss: 0.0110 - accuracy: 0.9965 - val_loss: 0.0267 - val_accuracy: 0.9911\n",
      "Epoch 7/20\n",
      "1875/1875 [==============================] - 46s 25ms/step - loss: 0.0095 - accuracy: 0.9968 - val_loss: 0.0348 - val_accuracy: 0.9901\n",
      "Epoch 8/20\n",
      "1875/1875 [==============================] - 43s 23ms/step - loss: 0.0076 - accuracy: 0.9976 - val_loss: 0.0322 - val_accuracy: 0.9912\n",
      "Epoch 9/20\n",
      "1875/1875 [==============================] - 48s 26ms/step - loss: 0.0068 - accuracy: 0.9977 - val_loss: 0.0332 - val_accuracy: 0.9909\n",
      "Epoch 10/20\n",
      "1875/1875 [==============================] - ETA: 0s - loss: 0.0042 - accuracy: 0.9984\n",
      "Reached 99.8% accuracy so cancelling training!\n",
      "\n",
      "1875/1875 [==============================] - 47s 25ms/step - loss: 0.0042 - accuracy: 0.9984 - val_loss: 0.0368 - val_accuracy: 0.9922\n"
     ]
    },
    {
     "data": {
      "text/plain": [
       "([0, 1, 2, 3, 4, 5, 6, 7, 8, 9], 0.998449981212616)"
      ]
     },
     "execution_count": 13,
     "metadata": {},
     "output_type": "execute_result"
    }
   ],
   "source": [
    "train_mnist()"
   ]
  }
 ],
 "metadata": {
  "kernelspec": {
   "display_name": "Python 3",
   "language": "python",
   "name": "python3"
  },
  "language_info": {
   "codemirror_mode": {
    "name": "ipython",
    "version": 3
   },
   "file_extension": ".py",
   "mimetype": "text/x-python",
   "name": "python",
   "nbconvert_exporter": "python",
   "pygments_lexer": "ipython3",
   "version": "3.6.10"
  }
 },
 "nbformat": 4,
 "nbformat_minor": 2
}
