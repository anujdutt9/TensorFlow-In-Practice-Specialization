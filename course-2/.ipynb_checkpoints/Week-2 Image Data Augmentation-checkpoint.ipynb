{
 "cells": [
  {
   "cell_type": "code",
   "execution_count": 1,
   "metadata": {},
   "outputs": [],
   "source": [
    "import os\n",
    "import zipfile\n",
    "import numpy as np\n",
    "import tensorflow as tf\n",
    "import matplotlib.pyplot as plt\n",
    "%matplotlib inline"
   ]
  },
  {
   "cell_type": "markdown",
   "metadata": {},
   "source": [
    "## Dataset Preperation"
   ]
  },
  {
   "cell_type": "code",
   "execution_count": 2,
   "metadata": {},
   "outputs": [
    {
     "name": "stdout",
     "output_type": "stream",
     "text": [
      "--2020-08-15 12:13:27--  https://storage.googleapis.com/laurencemoroney-blog.appspot.com/horse-or-human.zip\n",
      "Resolving storage.googleapis.com (storage.googleapis.com)... 2607:f8b0:4006:819::2010, 2607:f8b0:4006:805::2010, 2607:f8b0:4006:813::2010, ...\n",
      "Connecting to storage.googleapis.com (storage.googleapis.com)|2607:f8b0:4006:819::2010|:443... connected.\n",
      "HTTP request sent, awaiting response... 200 OK\n",
      "Length: 149574867 (143M) [application/zip]\n",
      "Saving to: ‘./horse-or-human.zip’\n",
      "\n",
      "./horse-or-human.zi 100%[===================>] 142.65M  8.24MB/s    in 13s     \n",
      "\n",
      "2020-08-15 12:13:40 (11.2 MB/s) - ‘./horse-or-human.zip’ saved [149574867/149574867]\n",
      "\n"
     ]
    }
   ],
   "source": [
    "# Download Training Dataset\n",
    "!wget --no-check-certificate \\\n",
    "    https://storage.googleapis.com/laurencemoroney-blog.appspot.com/horse-or-human.zip \\\n",
    "    -O ./horse-or-human.zip"
   ]
  },
  {
   "cell_type": "code",
   "execution_count": 3,
   "metadata": {},
   "outputs": [
    {
     "name": "stdout",
     "output_type": "stream",
     "text": [
      "--2020-08-15 12:13:40--  https://storage.googleapis.com/laurencemoroney-blog.appspot.com/validation-horse-or-human.zip\n",
      "Resolving storage.googleapis.com (storage.googleapis.com)... 2607:f8b0:4006:819::2010, 2607:f8b0:4006:805::2010, 2607:f8b0:4006:813::2010, ...\n",
      "Connecting to storage.googleapis.com (storage.googleapis.com)|2607:f8b0:4006:819::2010|:443... connected.\n",
      "HTTP request sent, awaiting response... 200 OK\n",
      "Length: 11480187 (11M) [application/zip]\n",
      "Saving to: ‘./validation-horse-or-human.zip’\n",
      "\n",
      "./validation-horse- 100%[===================>]  10.95M  8.98MB/s    in 1.2s    \n",
      "\n",
      "2020-08-15 12:13:41 (8.98 MB/s) - ‘./validation-horse-or-human.zip’ saved [11480187/11480187]\n",
      "\n"
     ]
    }
   ],
   "source": [
    "# Download Vlaidation Dataset\n",
    "!wget --no-check-certificate \\\n",
    "    https://storage.googleapis.com/laurencemoroney-blog.appspot.com/validation-horse-or-human.zip \\\n",
    "    -O ./validation-horse-or-human.zip"
   ]
  },
  {
   "cell_type": "code",
   "execution_count": 4,
   "metadata": {},
   "outputs": [],
   "source": [
    "local_zip = './horse-or-human.zip'\n",
    "zip_ref = zipfile.ZipFile(local_zip, 'r')\n",
    "zip_ref.extractall('./horse-or-human')\n",
    "local_zip = './validation-horse-or-human.zip'\n",
    "zip_ref = zipfile.ZipFile(local_zip, 'r')\n",
    "zip_ref.extractall('./validation-horse-or-human')\n",
    "zip_ref.close()"
   ]
  },
  {
   "cell_type": "code",
   "execution_count": 5,
   "metadata": {},
   "outputs": [],
   "source": [
    "# Directory with our training horse pictures\n",
    "train_horse_dir = os.path.join('./horse-or-human/horses')\n",
    "\n",
    "# Directory with our training human pictures\n",
    "train_human_dir = os.path.join('./horse-or-human/humans')\n",
    "\n",
    "# Directory with our training horse pictures\n",
    "validation_horse_dir = os.path.join('./validation-horse-or-human/horses')\n",
    "\n",
    "# Directory with our training human pictures\n",
    "validation_human_dir = os.path.join('./validation-horse-or-human/humans')"
   ]
  },
  {
   "cell_type": "markdown",
   "metadata": {},
   "source": [
    "## Model Definition"
   ]
  },
  {
   "cell_type": "code",
   "execution_count": 6,
   "metadata": {},
   "outputs": [],
   "source": [
    "# Model Definition\n",
    "model = tf.keras.models.Sequential([\n",
    "    # Note the input shape is the desired size of the image 300x300 with 3 bytes color\n",
    "    # This is the first convolution\n",
    "    tf.keras.layers.Conv2D(16, (3,3), activation='relu', input_shape=(300, 300, 3)),\n",
    "    tf.keras.layers.MaxPooling2D(2, 2),\n",
    "    # The second convolution\n",
    "    tf.keras.layers.Conv2D(32, (3,3), activation='relu'),\n",
    "    tf.keras.layers.MaxPooling2D(2,2),\n",
    "    # The third convolution\n",
    "    tf.keras.layers.Conv2D(64, (3,3), activation='relu'),\n",
    "    tf.keras.layers.MaxPooling2D(2,2),\n",
    "    # The fourth convolution\n",
    "    tf.keras.layers.Conv2D(64, (3,3), activation='relu'),\n",
    "    tf.keras.layers.MaxPooling2D(2,2),\n",
    "    # The fifth convolution\n",
    "    tf.keras.layers.Conv2D(64, (3,3), activation='relu'),\n",
    "    tf.keras.layers.MaxPooling2D(2,2),\n",
    "    # Flatten the results to feed into a DNN\n",
    "    tf.keras.layers.Flatten(),\n",
    "    # 512 neuron hidden layer\n",
    "    tf.keras.layers.Dense(512, activation='relu'),\n",
    "    # Only 1 output neuron. It will contain a value from 0-1 where 0 for 1 class ('horses') and 1 for the other ('humans')\n",
    "    tf.keras.layers.Dense(1, activation='sigmoid')\n",
    "])"
   ]
  },
  {
   "cell_type": "code",
   "execution_count": 7,
   "metadata": {},
   "outputs": [],
   "source": [
    "from tensorflow.keras.optimizers import RMSprop\n",
    "\n",
    "model.compile(loss='binary_crossentropy',\n",
    "              optimizer=RMSprop(lr=1e-4),\n",
    "              metrics=['accuracy'])"
   ]
  },
  {
   "cell_type": "code",
   "execution_count": 8,
   "metadata": {},
   "outputs": [
    {
     "name": "stdout",
     "output_type": "stream",
     "text": [
      "Found 1027 images belonging to 2 classes.\n",
      "Found 256 images belonging to 2 classes.\n"
     ]
    }
   ],
   "source": [
    "from tensorflow.keras.preprocessing.image import ImageDataGenerator\n",
    "\n",
    "# All images will be rescaled by 1./255\n",
    "train_datagen = ImageDataGenerator(\n",
    "      rescale=1./255,\n",
    "      rotation_range=40,\n",
    "      width_shift_range=0.2,\n",
    "      height_shift_range=0.2,\n",
    "      shear_range=0.2,\n",
    "      zoom_range=0.2,\n",
    "      horizontal_flip=True,\n",
    "      fill_mode='nearest')\n",
    "\n",
    "validation_datagen = ImageDataGenerator(rescale=1/255)\n",
    "\n",
    "# Flow training images in batches of 128 using train_datagen generator\n",
    "train_generator = train_datagen.flow_from_directory(\n",
    "        './horse-or-human/',  # This is the source directory for training images\n",
    "        target_size=(300, 300),  # All images will be resized to 150x150\n",
    "        batch_size=128,\n",
    "        # Since we use binary_crossentropy loss, we need binary labels\n",
    "        class_mode='binary')\n",
    "\n",
    "# Flow training images in batches of 128 using train_datagen generator\n",
    "validation_generator = validation_datagen.flow_from_directory(\n",
    "        './validation-horse-or-human/',  # This is the source directory for training images\n",
    "        target_size=(300, 300),  # All images will be resized to 150x150\n",
    "        batch_size=32,\n",
    "        # Since we use binary_crossentropy loss, we need binary labels\n",
    "        class_mode='binary')"
   ]
  },
  {
   "cell_type": "code",
   "execution_count": 10,
   "metadata": {},
   "outputs": [
    {
     "name": "stdout",
     "output_type": "stream",
     "text": [
      "Epoch 1/100\n",
      "8/8 [==============================] - 25s 3s/step - loss: 0.5834 - accuracy: 0.7230 - val_loss: 0.7677 - val_accuracy: 0.5352\n",
      "Epoch 2/100\n",
      "8/8 [==============================] - 19s 2s/step - loss: 0.5182 - accuracy: 0.7442 - val_loss: 0.5277 - val_accuracy: 0.7070\n",
      "Epoch 3/100\n",
      "8/8 [==============================] - 18s 2s/step - loss: 0.6020 - accuracy: 0.6952 - val_loss: 0.7140 - val_accuracy: 0.5586\n",
      "Epoch 4/100\n",
      "8/8 [==============================] - 18s 2s/step - loss: 0.4939 - accuracy: 0.7597 - val_loss: 1.0547 - val_accuracy: 0.5117\n",
      "Epoch 5/100\n",
      "8/8 [==============================] - 25s 3s/step - loss: 0.5085 - accuracy: 0.7586 - val_loss: 0.4644 - val_accuracy: 0.7617\n",
      "Epoch 6/100\n",
      "8/8 [==============================] - 21s 3s/step - loss: 0.4815 - accuracy: 0.7822 - val_loss: 1.1515 - val_accuracy: 0.5156\n",
      "Epoch 7/100\n",
      "8/8 [==============================] - 25s 3s/step - loss: 0.5065 - accuracy: 0.7519 - val_loss: 0.6172 - val_accuracy: 0.6680\n",
      "Epoch 8/100\n",
      "8/8 [==============================] - 18s 2s/step - loss: 0.4736 - accuracy: 0.7887 - val_loss: 0.7479 - val_accuracy: 0.6406\n",
      "Epoch 9/100\n",
      "8/8 [==============================] - 18s 2s/step - loss: 0.4885 - accuracy: 0.7675 - val_loss: 0.9137 - val_accuracy: 0.5742\n",
      "Epoch 10/100\n",
      "8/8 [==============================] - 25s 3s/step - loss: 0.5195 - accuracy: 0.7608 - val_loss: 0.6870 - val_accuracy: 0.6797\n",
      "Epoch 11/100\n",
      "8/8 [==============================] - 18s 2s/step - loss: 0.4576 - accuracy: 0.7786 - val_loss: 0.9609 - val_accuracy: 0.5977\n",
      "Epoch 12/100\n",
      "8/8 [==============================] - 19s 2s/step - loss: 0.4761 - accuracy: 0.7709 - val_loss: 1.0137 - val_accuracy: 0.5938\n",
      "Epoch 13/100\n",
      "8/8 [==============================] - 26s 3s/step - loss: 0.5104 - accuracy: 0.7853 - val_loss: 0.7966 - val_accuracy: 0.6406\n",
      "Epoch 14/100\n",
      "8/8 [==============================] - 18s 2s/step - loss: 0.4311 - accuracy: 0.8187 - val_loss: 0.7136 - val_accuracy: 0.6797\n",
      "Epoch 15/100\n",
      "8/8 [==============================] - 19s 2s/step - loss: 0.4278 - accuracy: 0.8154 - val_loss: 1.2925 - val_accuracy: 0.5625\n",
      "Epoch 16/100\n",
      "8/8 [==============================] - 18s 2s/step - loss: 0.4780 - accuracy: 0.7798 - val_loss: 0.9287 - val_accuracy: 0.6289\n",
      "Epoch 17/100\n",
      "8/8 [==============================] - 18s 2s/step - loss: 0.4020 - accuracy: 0.8231 - val_loss: 1.5957 - val_accuracy: 0.5508\n",
      "Epoch 18/100\n",
      "8/8 [==============================] - 19s 2s/step - loss: 0.4226 - accuracy: 0.8042 - val_loss: 1.4026 - val_accuracy: 0.5703\n",
      "Epoch 19/100\n",
      "8/8 [==============================] - 18s 2s/step - loss: 0.3845 - accuracy: 0.8265 - val_loss: 1.0326 - val_accuracy: 0.6641\n",
      "Epoch 20/100\n",
      "8/8 [==============================] - 19s 2s/step - loss: 0.4621 - accuracy: 0.7753 - val_loss: 1.1465 - val_accuracy: 0.6016\n",
      "Epoch 21/100\n",
      "8/8 [==============================] - 18s 2s/step - loss: 0.3550 - accuracy: 0.8576 - val_loss: 1.4567 - val_accuracy: 0.5742\n",
      "Epoch 22/100\n",
      "8/8 [==============================] - 18s 2s/step - loss: 0.4257 - accuracy: 0.8131 - val_loss: 1.3787 - val_accuracy: 0.5742\n",
      "Epoch 23/100\n",
      "8/8 [==============================] - 19s 2s/step - loss: 0.3591 - accuracy: 0.8521 - val_loss: 1.2379 - val_accuracy: 0.6133\n",
      "Epoch 24/100\n",
      "8/8 [==============================] - 19s 2s/step - loss: 0.3352 - accuracy: 0.8699 - val_loss: 0.3621 - val_accuracy: 0.8555\n",
      "Epoch 25/100\n",
      "8/8 [==============================] - 19s 2s/step - loss: 0.4403 - accuracy: 0.8109 - val_loss: 1.2777 - val_accuracy: 0.6133\n",
      "Epoch 26/100\n",
      "8/8 [==============================] - 19s 2s/step - loss: 0.3236 - accuracy: 0.8710 - val_loss: 1.2759 - val_accuracy: 0.6289\n",
      "Epoch 27/100\n",
      "8/8 [==============================] - 19s 2s/step - loss: 0.3589 - accuracy: 0.8343 - val_loss: 0.7605 - val_accuracy: 0.7344\n",
      "Epoch 28/100\n",
      "8/8 [==============================] - 22s 3s/step - loss: 0.3557 - accuracy: 0.8428 - val_loss: 1.5751 - val_accuracy: 0.5859\n",
      "Epoch 29/100\n",
      "8/8 [==============================] - 19s 2s/step - loss: 0.3722 - accuracy: 0.8398 - val_loss: 0.6143 - val_accuracy: 0.7852\n",
      "Epoch 30/100\n",
      "8/8 [==============================] - 19s 2s/step - loss: 0.3380 - accuracy: 0.8576 - val_loss: 1.5887 - val_accuracy: 0.6133\n",
      "Epoch 31/100\n",
      "8/8 [==============================] - 21s 3s/step - loss: 0.3196 - accuracy: 0.8743 - val_loss: 1.1028 - val_accuracy: 0.6992\n",
      "Epoch 32/100\n",
      "8/8 [==============================] - 19s 2s/step - loss: 0.4561 - accuracy: 0.7931 - val_loss: 0.9854 - val_accuracy: 0.6914\n",
      "Epoch 33/100\n",
      "8/8 [==============================] - 26s 3s/step - loss: 0.3052 - accuracy: 0.8765 - val_loss: 1.8563 - val_accuracy: 0.5859\n",
      "Epoch 34/100\n",
      "8/8 [==============================] - 19s 2s/step - loss: 0.3904 - accuracy: 0.8298 - val_loss: 1.6853 - val_accuracy: 0.6055\n",
      "Epoch 35/100\n",
      "8/8 [==============================] - 19s 2s/step - loss: 0.2916 - accuracy: 0.8932 - val_loss: 1.1961 - val_accuracy: 0.6953\n",
      "Epoch 36/100\n",
      "8/8 [==============================] - 19s 2s/step - loss: 0.3540 - accuracy: 0.8465 - val_loss: 1.1233 - val_accuracy: 0.6992\n",
      "Epoch 37/100\n",
      "8/8 [==============================] - 21s 3s/step - loss: 0.2890 - accuracy: 0.8838 - val_loss: 1.6613 - val_accuracy: 0.6367\n",
      "Epoch 38/100\n",
      "8/8 [==============================] - 18s 2s/step - loss: 0.4011 - accuracy: 0.8198 - val_loss: 1.2657 - val_accuracy: 0.6641\n",
      "Epoch 39/100\n",
      "8/8 [==============================] - 19s 2s/step - loss: 0.3858 - accuracy: 0.8576 - val_loss: 1.4731 - val_accuracy: 0.6133\n",
      "Epoch 40/100\n",
      "8/8 [==============================] - 19s 2s/step - loss: 0.2698 - accuracy: 0.8821 - val_loss: 1.5342 - val_accuracy: 0.6289\n",
      "Epoch 41/100\n",
      "8/8 [==============================] - 19s 2s/step - loss: 0.2732 - accuracy: 0.8877 - val_loss: 1.7522 - val_accuracy: 0.6172\n",
      "Epoch 42/100\n",
      "8/8 [==============================] - 19s 2s/step - loss: 0.3137 - accuracy: 0.8632 - val_loss: 1.7054 - val_accuracy: 0.6367\n",
      "Epoch 43/100\n",
      "8/8 [==============================] - 19s 2s/step - loss: 0.3044 - accuracy: 0.8632 - val_loss: 1.8794 - val_accuracy: 0.6016\n",
      "Epoch 44/100\n",
      "8/8 [==============================] - 19s 2s/step - loss: 0.2593 - accuracy: 0.8788 - val_loss: 2.0591 - val_accuracy: 0.6055\n",
      "Epoch 45/100\n",
      "8/8 [==============================] - 20s 2s/step - loss: 0.3045 - accuracy: 0.8732 - val_loss: 2.0541 - val_accuracy: 0.6016\n",
      "Epoch 46/100\n",
      "8/8 [==============================] - 19s 2s/step - loss: 0.2647 - accuracy: 0.8877 - val_loss: 1.0724 - val_accuracy: 0.7188\n",
      "Epoch 47/100\n",
      "8/8 [==============================] - 19s 2s/step - loss: 0.3419 - accuracy: 0.8643 - val_loss: 1.5701 - val_accuracy: 0.6367\n",
      "Epoch 48/100\n",
      "8/8 [==============================] - 25s 3s/step - loss: 0.2391 - accuracy: 0.9155 - val_loss: 1.8966 - val_accuracy: 0.6250\n",
      "Epoch 49/100\n",
      "8/8 [==============================] - 18s 2s/step - loss: 0.2743 - accuracy: 0.8810 - val_loss: 0.3916 - val_accuracy: 0.8555\n",
      "Epoch 50/100\n",
      "8/8 [==============================] - 18s 2s/step - loss: 0.3382 - accuracy: 0.8465 - val_loss: 1.4615 - val_accuracy: 0.6445\n",
      "Epoch 51/100\n",
      "8/8 [==============================] - 25s 3s/step - loss: 0.2542 - accuracy: 0.8966 - val_loss: 2.0594 - val_accuracy: 0.6016\n",
      "Epoch 52/100\n",
      "8/8 [==============================] - 20s 3s/step - loss: 0.2330 - accuracy: 0.9033 - val_loss: 2.1790 - val_accuracy: 0.6016\n",
      "Epoch 53/100\n",
      "8/8 [==============================] - 18s 2s/step - loss: 0.3215 - accuracy: 0.8576 - val_loss: 1.3675 - val_accuracy: 0.6680\n",
      "Epoch 54/100\n",
      "8/8 [==============================] - 19s 2s/step - loss: 0.2486 - accuracy: 0.8977 - val_loss: 1.7822 - val_accuracy: 0.6367\n",
      "Epoch 55/100\n",
      "8/8 [==============================] - 26s 3s/step - loss: 0.2282 - accuracy: 0.9055 - val_loss: 2.7972 - val_accuracy: 0.5586\n",
      "Epoch 56/100\n",
      "8/8 [==============================] - 19s 2s/step - loss: 0.2653 - accuracy: 0.8854 - val_loss: 3.1506 - val_accuracy: 0.5273\n",
      "Epoch 57/100\n",
      "8/8 [==============================] - 18s 2s/step - loss: 0.2938 - accuracy: 0.8754 - val_loss: 2.7440 - val_accuracy: 0.5781\n",
      "Epoch 58/100\n",
      "8/8 [==============================] - 32s 4s/step - loss: 0.2082 - accuracy: 0.9110 - val_loss: 2.3079 - val_accuracy: 0.6250\n",
      "Epoch 59/100\n"
     ]
    },
    {
     "name": "stdout",
     "output_type": "stream",
     "text": [
      "8/8 [==============================] - 20s 2s/step - loss: 0.2523 - accuracy: 0.9010 - val_loss: 1.7469 - val_accuracy: 0.6523\n",
      "Epoch 60/100\n",
      "8/8 [==============================] - 24s 3s/step - loss: 0.1820 - accuracy: 0.9326 - val_loss: 2.0840 - val_accuracy: 0.6328\n",
      "Epoch 61/100\n",
      "8/8 [==============================] - 23s 3s/step - loss: 0.3007 - accuracy: 0.8710 - val_loss: 2.1005 - val_accuracy: 0.6172\n",
      "Epoch 62/100\n",
      "8/8 [==============================] - 19s 2s/step - loss: 0.2125 - accuracy: 0.9043 - val_loss: 1.2936 - val_accuracy: 0.7188\n",
      "Epoch 63/100\n",
      "8/8 [==============================] - 18s 2s/step - loss: 0.2315 - accuracy: 0.9032 - val_loss: 2.3032 - val_accuracy: 0.6250\n",
      "Epoch 64/100\n",
      "8/8 [==============================] - 19s 2s/step - loss: 0.1900 - accuracy: 0.9366 - val_loss: 2.9975 - val_accuracy: 0.5625\n",
      "Epoch 65/100\n",
      "8/8 [==============================] - 19s 2s/step - loss: 0.2382 - accuracy: 0.8999 - val_loss: 2.5043 - val_accuracy: 0.6172\n",
      "Epoch 66/100\n",
      "8/8 [==============================] - 19s 2s/step - loss: 0.2022 - accuracy: 0.9255 - val_loss: 3.6687 - val_accuracy: 0.5391\n",
      "Epoch 67/100\n",
      "8/8 [==============================] - 18s 2s/step - loss: 0.2169 - accuracy: 0.9121 - val_loss: 2.2309 - val_accuracy: 0.6406\n",
      "Epoch 68/100\n",
      "8/8 [==============================] - 26s 3s/step - loss: 0.2302 - accuracy: 0.9032 - val_loss: 1.7392 - val_accuracy: 0.6758\n",
      "Epoch 69/100\n",
      "8/8 [==============================] - 18s 2s/step - loss: 0.2468 - accuracy: 0.8843 - val_loss: 1.6500 - val_accuracy: 0.6562\n",
      "Epoch 70/100\n",
      "8/8 [==============================] - 19s 2s/step - loss: 0.2001 - accuracy: 0.9232 - val_loss: 2.6330 - val_accuracy: 0.6211\n",
      "Epoch 71/100\n",
      "8/8 [==============================] - 18s 2s/step - loss: 0.2323 - accuracy: 0.9110 - val_loss: 1.8392 - val_accuracy: 0.6680\n",
      "Epoch 72/100\n",
      "8/8 [==============================] - 18s 2s/step - loss: 0.1572 - accuracy: 0.9410 - val_loss: 2.5080 - val_accuracy: 0.6367\n",
      "Epoch 73/100\n",
      "8/8 [==============================] - 18s 2s/step - loss: 0.2561 - accuracy: 0.8910 - val_loss: 2.0993 - val_accuracy: 0.6484\n",
      "Epoch 74/100\n",
      "8/8 [==============================] - 19s 2s/step - loss: 0.1785 - accuracy: 0.9266 - val_loss: 3.0391 - val_accuracy: 0.6094\n",
      "Epoch 75/100\n",
      "8/8 [==============================] - 18s 2s/step - loss: 0.2702 - accuracy: 0.8888 - val_loss: 4.1872 - val_accuracy: 0.5508\n",
      "Epoch 76/100\n",
      "8/8 [==============================] - 19s 2s/step - loss: 0.1869 - accuracy: 0.9255 - val_loss: 1.5344 - val_accuracy: 0.7148\n",
      "Epoch 77/100\n",
      "8/8 [==============================] - 19s 2s/step - loss: 0.1889 - accuracy: 0.9199 - val_loss: 1.9073 - val_accuracy: 0.6719\n",
      "Epoch 78/100\n",
      "8/8 [==============================] - 21s 3s/step - loss: 0.1611 - accuracy: 0.9424 - val_loss: 3.4805 - val_accuracy: 0.5898\n",
      "Epoch 79/100\n",
      "8/8 [==============================] - 18s 2s/step - loss: 0.1929 - accuracy: 0.9199 - val_loss: 2.5672 - val_accuracy: 0.6406\n",
      "Epoch 80/100\n",
      "8/8 [==============================] - 19s 2s/step - loss: 0.1938 - accuracy: 0.9177 - val_loss: 2.5194 - val_accuracy: 0.6406\n",
      "Epoch 81/100\n",
      "8/8 [==============================] - 19s 2s/step - loss: 0.1745 - accuracy: 0.9310 - val_loss: 6.1447 - val_accuracy: 0.5039\n",
      "Epoch 82/100\n",
      "8/8 [==============================] - 19s 2s/step - loss: 0.2669 - accuracy: 0.9032 - val_loss: 2.1895 - val_accuracy: 0.6484\n",
      "Epoch 83/100\n",
      "8/8 [==============================] - 19s 2s/step - loss: 0.1331 - accuracy: 0.9655 - val_loss: 2.5790 - val_accuracy: 0.6328\n",
      "Epoch 84/100\n",
      "8/8 [==============================] - 19s 2s/step - loss: 0.1468 - accuracy: 0.9488 - val_loss: 2.2711 - val_accuracy: 0.6602\n",
      "Epoch 85/100\n",
      "8/8 [==============================] - 19s 2s/step - loss: 0.2179 - accuracy: 0.9166 - val_loss: 1.5908 - val_accuracy: 0.7188\n",
      "Epoch 86/100\n",
      "8/8 [==============================] - 19s 2s/step - loss: 0.1365 - accuracy: 0.9499 - val_loss: 3.3191 - val_accuracy: 0.5938\n",
      "Epoch 87/100\n",
      "8/8 [==============================] - 19s 2s/step - loss: 0.1843 - accuracy: 0.9143 - val_loss: 3.0836 - val_accuracy: 0.6289\n",
      "Epoch 88/100\n",
      "8/8 [==============================] - 19s 2s/step - loss: 0.3561 - accuracy: 0.8888 - val_loss: 2.3917 - val_accuracy: 0.6406\n",
      "Epoch 89/100\n",
      "8/8 [==============================] - 19s 2s/step - loss: 0.1534 - accuracy: 0.9455 - val_loss: 2.7407 - val_accuracy: 0.6250\n",
      "Epoch 90/100\n",
      "8/8 [==============================] - 18s 2s/step - loss: 0.2108 - accuracy: 0.9321 - val_loss: 3.2896 - val_accuracy: 0.6055\n",
      "Epoch 91/100\n",
      "8/8 [==============================] - 19s 2s/step - loss: 0.1656 - accuracy: 0.9399 - val_loss: 2.2552 - val_accuracy: 0.6523\n",
      "Epoch 92/100\n",
      "8/8 [==============================] - 21s 3s/step - loss: 0.1430 - accuracy: 0.9414 - val_loss: 2.4447 - val_accuracy: 0.6523\n",
      "Epoch 93/100\n",
      "8/8 [==============================] - 20s 2s/step - loss: 0.3629 - accuracy: 0.8832 - val_loss: 2.5561 - val_accuracy: 0.6367\n",
      "Epoch 94/100\n",
      "8/8 [==============================] - 26s 3s/step - loss: 0.1198 - accuracy: 0.9633 - val_loss: 2.8980 - val_accuracy: 0.6289\n",
      "Epoch 95/100\n",
      "8/8 [==============================] - 26s 3s/step - loss: 0.1367 - accuracy: 0.9455 - val_loss: 2.2161 - val_accuracy: 0.6602\n",
      "Epoch 96/100\n",
      "8/8 [==============================] - 19s 2s/step - loss: 0.2770 - accuracy: 0.8977 - val_loss: 3.3336 - val_accuracy: 0.5938\n",
      "Epoch 97/100\n",
      "8/8 [==============================] - 26s 3s/step - loss: 0.1452 - accuracy: 0.9455 - val_loss: 3.0735 - val_accuracy: 0.6250\n",
      "Epoch 98/100\n",
      "8/8 [==============================] - 20s 2s/step - loss: 0.1667 - accuracy: 0.9455 - val_loss: 2.9051 - val_accuracy: 0.6172\n",
      "Epoch 99/100\n",
      "8/8 [==============================] - 27s 3s/step - loss: 0.1391 - accuracy: 0.9511 - val_loss: 1.8574 - val_accuracy: 0.6992\n",
      "Epoch 100/100\n",
      "8/8 [==============================] - 27s 3s/step - loss: 0.1626 - accuracy: 0.9410 - val_loss: 2.6746 - val_accuracy: 0.6445\n"
     ]
    }
   ],
   "source": [
    "history = model.fit(\n",
    "      train_generator,\n",
    "      steps_per_epoch=8,  \n",
    "      epochs=100,\n",
    "      verbose=1,\n",
    "      validation_data = validation_generator,\n",
    "      validation_steps=8, \n",
    "      workers=4)"
   ]
  },
  {
   "cell_type": "markdown",
   "metadata": {},
   "source": [
    "## Model Evaluation"
   ]
  },
  {
   "cell_type": "code",
   "execution_count": 11,
   "metadata": {},
   "outputs": [
    {
     "data": {
      "image/png": "[encoded data removed]",
      "text/plain": [
       "<Figure size 432x288 with 1 Axes>"
      ]
     },
     "metadata": {
      "needs_background": "light"
     },
     "output_type": "display_data"
    },
    {
     "data": {
      "image/png": "[encoded data removed]",
      "text/plain": [
       "<Figure size 432x288 with 1 Axes>"
      ]
     },
     "metadata": {
      "needs_background": "light"
     },
     "output_type": "display_data"
    }
   ],
   "source": [
    "import matplotlib.pyplot as plt\n",
    "acc = history.history['accuracy']\n",
    "val_acc = history.history['val_accuracy']\n",
    "loss = history.history['loss']\n",
    "val_loss = history.history['val_loss']\n",
    "\n",
    "epochs = range(len(acc))\n",
    "\n",
    "plt.plot(epochs, acc, 'r', label='Training accuracy')\n",
    "plt.plot(epochs, val_acc, 'b', label='Validation accuracy')\n",
    "plt.title('Training and validation accuracy')\n",
    "\n",
    "plt.figure()\n",
    "\n",
    "plt.plot(epochs, loss, 'r', label='Training Loss')\n",
    "plt.plot(epochs, val_loss, 'b', label='Validation Loss')\n",
    "plt.title('Training and validation loss')\n",
    "plt.legend()\n",
    "\n",
    "plt.show()"
   ]
  }
 ],
 "metadata": {
  "kernelspec": {
   "display_name": "Python 3",
   "language": "python",
   "name": "python3"
  },
  "language_info": {
   "codemirror_mode": {
    "name": "ipython",
    "version": 3
   },
   "file_extension": ".py",
   "mimetype": "text/x-python",
   "name": "python",
   "nbconvert_exporter": "python",
   "pygments_lexer": "ipython3",
   "version": "3.6.10"
  }
 },
 "nbformat": 4,
 "nbformat_minor": 2
}
